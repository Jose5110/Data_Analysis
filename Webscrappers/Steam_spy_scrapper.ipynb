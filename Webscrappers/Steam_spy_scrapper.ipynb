{
 "cells": [
  {
   "cell_type": "markdown",
   "metadata": {},
   "source": [
    "### IMPORTING LIBRARIES"
   ]
  },
  {
   "cell_type": "code",
   "execution_count": 6,
   "metadata": {},
   "outputs": [],
   "source": [
    "# Importing standard python libraies\n",
    "import time\n",
    "import sys\n",
    "\n",
    "\n",
    "# Importing third-party libraries\n",
    "import numpy as np\n",
    "import pandas as pd\n",
    "import requests\n",
    "from bs4 import BeautifulSoup\n",
    "import tqdm\n"
   ]
  },
  {
   "cell_type": "markdown",
   "metadata": {},
   "source": [
    "***"
   ]
  },
  {
   "cell_type": "markdown",
   "metadata": {},
   "source": [
    "### DECLARING VARIABLES"
   ]
  },
  {
   "cell_type": "code",
   "execution_count": 52,
   "metadata": {},
   "outputs": [],
   "source": [
    "# Url list and variables\n",
    "steam_url = 'https://steamspy.com/'\n",
    "\n",
    "page_year = {\n",
    "    '2008' : 'https://steamspy.com/year/2008',\n",
    "    '2009' : 'https://steamspy.com/year/2009',\n",
    "    '2010' : 'https://steamspy.com/year/2010',\n",
    "    '2011' : 'https://steamspy.com/year/2011',\n",
    "    '2012' : 'https://steamspy.com/year/2012',\n",
    "    '2013' : 'https://steamspy.com/year/2013',\n",
    "    '2014' : 'https://steamspy.com/year/2014',\n",
    "    '2015' : 'https://steamspy.com/year/2015',\n",
    "    '2016' : 'https://steamspy.com/year/2016',\n",
    "    '2017' : 'https://steamspy.com/year/2017',\n",
    "    '2018' : 'https://steamspy.com/year/2018',\n",
    "    '2019' : 'https://steamspy.com/year/2019',\n",
    "    '2020' : 'https://steamspy.com/year/2020',\n",
    "    '2021' : 'https://steamspy.com/year/2021'\n",
    "}\n",
    "\n",
    "game_data_dict = {\n",
    "    'id':[], \n",
    "    'name':[], \n",
    "    'dev':[], \n",
    "    'publisher':[], \n",
    "    'genre':[], \n",
    "    'language':[], \n",
    "    'tags':[], \n",
    "    'category':[], \n",
    "    'release':[], \n",
    "    'actual_price':[], \n",
    "    'discount':[],\n",
    "    'old_userscore':[],\n",
    "    'metascore':[], \n",
    "    'owners':[],\n",
    "    'followers':[]\n",
    "    }\n",
    "\n",
    "\n",
    "found_dev= []\n",
    "found_genre = []\n",
    "found_publisher = []\n",
    "found_genre = []\n",
    "found_language = []\n",
    "found_tags = []\n",
    "found_category = []\n",
    "found_release_date = []\n",
    "found_price = []\n",
    "found_discount = []\n",
    "found_old_userscore = []\n",
    "found_metascore = []\n",
    "found_owners = []\n",
    "found_followers = []"
   ]
  },
  {
   "cell_type": "markdown",
   "metadata": {},
   "source": [
    "***"
   ]
  },
  {
   "cell_type": "markdown",
   "metadata": {},
   "source": [
    "### CREATING FUNCTIONS"
   ]
  },
  {
   "cell_type": "code",
   "execution_count": 53,
   "metadata": {},
   "outputs": [],
   "source": [
    "# request sending and error handling\n",
    "\n",
    "# -------------------------------->Takes one and only one url from page_year dict as argument\n",
    "def get_soup(url: str) -> str:\n",
    "    response = requests.get(url)\n",
    "# -------------------------------->Parse the html in case of positive response\n",
    "    try:\n",
    "        if response.status_code == 200:\n",
    "            soup = BeautifulSoup(response.text,\"html.parser\")\n",
    "            #print('HTTP 200 OK -- SUCCESSFUL REQUEST')\n",
    "            return soup\n",
    "# -------------------------------->Exception handling needs to be improved (under development).\n",
    "    except:\n",
    "        print('error')\n",
    "\n",
    "\n",
    "# -------------------------------->Takes get_soup function as argument\n",
    "def get_game_apps(soup):\n",
    "    games_links = soup.find_all(\"tr\")\n",
    "    games_links.pop(0)\n",
    "\n",
    "\n",
    "    for game in games_links:\n",
    "        game_data_dict['id'].append(game.a[\"href\"])\n",
    "        game_data_dict['name'].append(game.contents[3].text.strip())\n",
    "\n",
    "\n",
    "# -------------------------------->Filters the section of the html that contains the data of a set in the name list from game_data_dict\n",
    "def get_game_tags_info(game_app):\n",
    "    game_url = steam_url+game_app\n",
    "    response = requests.get(game_url)\n",
    "    try:\n",
    "        if response.status_code == 200:\n",
    "            soup = BeautifulSoup(response.text,\"html.parser\")\n",
    "# -------------------------------->Extract the game info\n",
    "            #print('HTTP 200 OK -- SUCCESSFUL REQUEST FOR GAME APP')\n",
    "            try:\n",
    "                game_soup = soup.find(\"div\",attrs={\"class\":\"col-md-4 no-padding\"}).find(\"p\")\n",
    "                return game_soup\n",
    "            except:\n",
    "                game_data_dict['dev'].append(None)\n",
    "                game_data_dict['publisher'].append(None)\n",
    "                game_data_dict['genre'].append(None)\n",
    "                game_data_dict['language'].append(None)\n",
    "                game_data_dict['tags'].append(None)\n",
    "                game_data_dict['category'].append(None)\n",
    "                game_data_dict['release'].append(None)\n",
    "                game_data_dict['actual_price'].append(None)\n",
    "                game_data_dict['discount'].append(None)\n",
    "                game_data_dict['old_userscore'].append(None)\n",
    "                game_data_dict['metascore'].append(None)\n",
    "                game_data_dict['owners'].append(None)\n",
    "                game_data_dict['followers'].append(None)\n",
    "                return 'FORMAT ERROR'\n",
    "    except:\n",
    "        print('error')\n",
    "\n",
    "# --------------------------------> Iterates in each app id to get the tags info\n",
    "\n",
    "def do_all():\n",
    "    global found_dev\n",
    "    global found_genre\n",
    "    global found_publisher\n",
    "    global found_genre\n",
    "    global found_language\n",
    "    global found_tags\n",
    "    global found_category\n",
    "    global found_release_date\n",
    "    global found_price\n",
    "    global found_discount\n",
    "    global found_old_userscore\n",
    "    global found_metascore\n",
    "    global found_owners\n",
    "    global found_followers\n",
    "\n",
    "    for i in tqdm.tqdm(range(0, len(game_data_dict['id']))):\n",
    "        \n",
    "        if get_game_tags_info(game_data_dict['id'][i]) == 'FORMAT ERROR':\n",
    "            continue\n",
    "        else:\n",
    "            info = get_game_tags_info(game_data_dict['id'][i])\n",
    "\n",
    "    # --------------------------------> extract data from every game\n",
    "            for ahref in info.find_all('a'): # for ahref\n",
    "                if 'dev' in str(ahref):\n",
    "                    found_dev.append(ahref.text)\n",
    "                \n",
    "                elif 'genre' in str(ahref):\n",
    "                    found_genre.append(ahref.text)\n",
    "\n",
    "                elif 'language' in str(ahref):\n",
    "                    found_language.append(ahref.text)\n",
    "                \n",
    "                elif 'tag' in str(ahref):\n",
    "                    found_tags.append(ahref.text)\n",
    "\n",
    "            for strong in info.find_all('strong'): # for strong\n",
    "                if 'Publisher' in str(strong):\n",
    "                    found_publisher.append(strong.nextSibling.nextSibling.text)\n",
    "\n",
    "                elif 'Category' in str(strong):\n",
    "                    found_category.extend(strong.nextSibling.strip().split(', '))\n",
    "\n",
    "                elif 'Release date' in str(strong):\n",
    "                    found_release_date.append(strong.nextSibling.replace(':','').replace('(previously','').strip())\n",
    "\n",
    "                elif 'Price' in str(strong):\n",
    "                    found_price.append(strong.nextSibling.strip())\n",
    "\n",
    "                elif 'Old userscore' in str(strong):\n",
    "                    found_old_userscore.append(strong.nextSibling.strip())\n",
    "\n",
    "                elif 'Metascore' in str(strong):\n",
    "                    found_metascore.append(strong.nextSibling.strip())\n",
    "\n",
    "                elif 'Owners' in str(strong):\n",
    "                    found_owners.append(strong.nextSibling.replace(r': ','').strip().replace(u'\\xa0..\\xa0',u' - '))\n",
    "\n",
    "                elif 'Followers' in str(strong):\n",
    "                    found_followers.append(strong.nextSibling.replace(': ',''))\n",
    "\n",
    "            for font in info.find_all('font'):\n",
    "                found_discount.append(font.text)\n",
    "\n",
    "            \n",
    "\n",
    "            game_data_dict['dev'].append(list(set(found_dev)))\n",
    "            game_data_dict['publisher'].append(found_publisher)\n",
    "            game_data_dict['genre'].append(found_genre)\n",
    "            game_data_dict['language'].append(found_language)\n",
    "            game_data_dict['tags'].append(found_tags)\n",
    "            game_data_dict['category'].append(found_category)\n",
    "            game_data_dict['release'].append(found_release_date)\n",
    "            game_data_dict['actual_price'].append(found_price)\n",
    "            game_data_dict['discount'].append(found_discount)\n",
    "            game_data_dict['old_userscore'].append(found_old_userscore)\n",
    "            game_data_dict['metascore'].append(found_metascore)\n",
    "            game_data_dict['owners'].append(found_owners)\n",
    "            game_data_dict['followers'].append(found_followers)\n",
    "\n",
    "\n",
    "            found_dev= []\n",
    "            found_genre = []\n",
    "            found_publisher = []\n",
    "            found_genre = []\n",
    "            found_language = []\n",
    "            found_tags = []\n",
    "            found_category = []\n",
    "            found_release_date = []\n",
    "            found_price = []\n",
    "            found_discount = []\n",
    "            found_old_userscore = []\n",
    "            found_metascore = []\n",
    "            found_owners = []\n",
    "            found_followers = []"
   ]
  },
  {
   "cell_type": "markdown",
   "metadata": {},
   "source": [
    "***"
   ]
  },
  {
   "cell_type": "markdown",
   "metadata": {},
   "source": [
    "### GETTING ID AND NAME DATA"
   ]
  },
  {
   "cell_type": "code",
   "execution_count": 54,
   "metadata": {},
   "outputs": [],
   "source": [
    "# Select the year in this cell, then run\n",
    "get_soup(page_year['2021'])\n",
    "get_game_apps(get_soup(page_year['2021']))"
   ]
  },
  {
   "cell_type": "markdown",
   "metadata": {},
   "source": [
    "***"
   ]
  },
  {
   "cell_type": "markdown",
   "metadata": {},
   "source": [
    "### GETTING THE REST OF THE DATA, BE PATIENT!"
   ]
  },
  {
   "cell_type": "code",
   "execution_count": null,
   "metadata": {},
   "outputs": [],
   "source": [
    "do_all()"
   ]
  },
  {
   "cell_type": "markdown",
   "metadata": {},
   "source": [
    "***"
   ]
  },
  {
   "cell_type": "markdown",
   "metadata": {},
   "source": [
    "### DATAFRAME CREATION"
   ]
  },
  {
   "cell_type": "code",
   "execution_count": null,
   "metadata": {},
   "outputs": [],
   "source": [
    "df = pd.DataFrame(game_data_dict)"
   ]
  }
 ],
 "metadata": {
  "kernelspec": {
   "display_name": "Python 3 (ipykernel)",
   "language": "python",
   "name": "python3"
  },
  "language_info": {
   "codemirror_mode": {
    "name": "ipython",
    "version": 3
   },
   "file_extension": ".py",
   "mimetype": "text/x-python",
   "name": "python",
   "nbconvert_exporter": "python",
   "pygments_lexer": "ipython3",
   "version": "3.9.7"
  },
  "vscode": {
   "interpreter": {
    "hash": "30bcdfd920daf247d9e20ae26096243bb911f0428b367c554491ef89981808d5"
   }
  }
 },
 "nbformat": 4,
 "nbformat_minor": 2
}
